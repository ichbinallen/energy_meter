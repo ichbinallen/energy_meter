{
 "cells": [
  {
   "cell_type": "code",
   "execution_count": 7,
   "id": "f59b68e8-cf8a-4072-8541-621b30160e98",
   "metadata": {},
   "outputs": [],
   "source": [
    "import pandas as pd\n",
    "import numpy as np\n",
    "\n",
    "import matplotlib.pyplot as plt\n",
    "import seaborn as sns\n",
    "\n",
    "# TS\n",
    "from prophet import Prophet\n",
    "\n",
    "# User Imports\n",
    "import sys\n",
    "\n",
    "sys.path.append(\"..\")\n",
    "from src import util\n",
    "\n",
    "# modeling\n",
    "import optuna\n",
    "from sklearn.metrics import mean_squared_error as mse\n",
    "import joblib\n",
    "\n",
    "%load_ext autoreload\n",
    "%autoreload 2\n",
    "\n",
    "plt.rcParams[\"figure.figsize\"] = (14, 7)"
   ]
  },
  {
   "cell_type": "code",
   "execution_count": 14,
   "id": "ffffdd45-8ca4-4c59-9bda-7bc4dbc76584",
   "metadata": {},
   "outputs": [],
   "source": [
    "load = util.read_load(\"../data/load_hist_data.csv\")\n",
    "weather = util.read_weather(\"../data/weather_data.csv\")\n",
    "weather_features = util.featurize_weather(\n",
    "    weather, lags=[24]\n",
    ")  # 24 hours = 1 day lagged weather\n",
    "mod_data = util.create_mod_data(load, weather_features)"
   ]
  },
  {
   "cell_type": "code",
   "execution_count": 15,
   "id": "39ae7da3-5e2f-48db-b7ad-0ed4666cb98f",
   "metadata": {},
   "outputs": [],
   "source": [
    "from sktime.forecasting.model_selection import temporal_train_test_split\n",
    "\n",
    "inference_data = mod_data[mod_data.ds >= \"2008-01-01\"]\n",
    "mod_data = mod_data[mod_data.ds < '2008-01-01'] \n",
    "\n",
    "train_data, test_data = temporal_train_test_split(mod_data, test_size=1 / 3)\n",
    "tune_data, test_data = temporal_train_test_split(test_data, test_size=1 / 3)"
   ]
  },
  {
   "cell_type": "code",
   "execution_count": 18,
   "id": "96021bc5-abc2-4ce4-979f-70cb47df372c",
   "metadata": {},
   "outputs": [
    {
     "name": "stderr",
     "output_type": "stream",
     "text": [
      "[I 2023-12-20 22:37:50,761] A new study created in memory with name: no-name-92d9e4b3-1278-4b25-8b2c-25ec5e928e28\n"
     ]
    },
    {
     "data": {
      "text/plain": [
       "{'changepoint_prior_scale': 5.320365068322312,\n",
       " 'seasonality_prior_scale': 4.613403157012447,\n",
       " 'seasonality_mode': 'additive',\n",
       " 'dow_0_prior_scale': 0.6127325685402715,\n",
       " 'dow_1_prior_scale': 2.6839226947447603,\n",
       " 'dow_2_prior_scale': 0.9188387596022104,\n",
       " 'dow_3_prior_scale': 6.956858353974224,\n",
       " 'dow_4_prior_scale': 2.075375205339147,\n",
       " 'dow_5_prior_scale': 8.78605000329544,\n",
       " 'dow_6_prior_scale': 5.28937615752377}"
      ]
     },
     "metadata": {},
     "output_type": "display_data"
    },
    {
     "name": "stderr",
     "output_type": "stream",
     "text": [
      "22:37:52 - cmdstanpy - INFO - Chain [1] start processing\n",
      "22:39:14 - cmdstanpy - INFO - Chain [1] done processing\n",
      "[I 2023-12-20 22:39:15,051] Trial 0 finished with value: 1119.8946972811127 and parameters: {'changepoint_prior_scale': 5.320365068322312, 'seasonality_prior_scale': 4.613403157012447, 'seasonality_mode': 'additive', 'dow_0_prior_scale': 0.6127325685402715, 'dow_1_prior_scale': 2.6839226947447603, 'dow_2_prior_scale': 0.9188387596022104, 'dow_3_prior_scale': 6.956858353974224, 'dow_4_prior_scale': 2.075375205339147, 'dow_5_prior_scale': 8.78605000329544, 'dow_6_prior_scale': 5.28937615752377}. Best is trial 0 with value: 1119.8946972811127.\n"
     ]
    },
    {
     "data": {
      "text/plain": [
       "{'changepoint_prior_scale': 7.0087096751807705,\n",
       " 'seasonality_prior_scale': 4.391911528615275,\n",
       " 'seasonality_mode': 'additive',\n",
       " 'dow_0_prior_scale': 0.7520179943471652,\n",
       " 'dow_1_prior_scale': 0.12731654579269636,\n",
       " 'dow_2_prior_scale': 9.19259439784826,\n",
       " 'dow_3_prior_scale': 8.727295897707606,\n",
       " 'dow_4_prior_scale': 3.567394958523806,\n",
       " 'dow_5_prior_scale': 8.005355119977136,\n",
       " 'dow_6_prior_scale': 0.9115659927110578}"
      ]
     },
     "metadata": {},
     "output_type": "display_data"
    },
    {
     "name": "stderr",
     "output_type": "stream",
     "text": [
      "22:39:16 - cmdstanpy - INFO - Chain [1] start processing\n",
      "22:40:27 - cmdstanpy - INFO - Chain [1] done processing\n",
      "[I 2023-12-20 22:40:28,289] Trial 1 finished with value: 926.0657337456925 and parameters: {'changepoint_prior_scale': 7.0087096751807705, 'seasonality_prior_scale': 4.391911528615275, 'seasonality_mode': 'additive', 'dow_0_prior_scale': 0.7520179943471652, 'dow_1_prior_scale': 0.12731654579269636, 'dow_2_prior_scale': 9.19259439784826, 'dow_3_prior_scale': 8.727295897707606, 'dow_4_prior_scale': 3.567394958523806, 'dow_5_prior_scale': 8.005355119977136, 'dow_6_prior_scale': 0.9115659927110578}. Best is trial 1 with value: 926.0657337456925.\n"
     ]
    },
    {
     "data": {
      "text/plain": [
       "{'changepoint_prior_scale': 5.15802503854531,\n",
       " 'seasonality_prior_scale': 4.74064525937558,\n",
       " 'seasonality_mode': 'additive',\n",
       " 'dow_0_prior_scale': 0.24971569624965956,\n",
       " 'dow_1_prior_scale': 0.7742986207572464,\n",
       " 'dow_2_prior_scale': 4.434822164746875,\n",
       " 'dow_3_prior_scale': 9.83790962625793,\n",
       " 'dow_4_prior_scale': 2.6902178091658846,\n",
       " 'dow_5_prior_scale': 2.2228449402677217,\n",
       " 'dow_6_prior_scale': 4.773890069642158}"
      ]
     },
     "metadata": {},
     "output_type": "display_data"
    },
    {
     "name": "stderr",
     "output_type": "stream",
     "text": [
      "22:40:30 - cmdstanpy - INFO - Chain [1] start processing\n",
      "22:41:45 - cmdstanpy - INFO - Chain [1] done processing\n",
      "[I 2023-12-20 22:41:46,249] Trial 2 finished with value: 1309.8393607984708 and parameters: {'changepoint_prior_scale': 5.15802503854531, 'seasonality_prior_scale': 4.74064525937558, 'seasonality_mode': 'additive', 'dow_0_prior_scale': 0.24971569624965956, 'dow_1_prior_scale': 0.7742986207572464, 'dow_2_prior_scale': 4.434822164746875, 'dow_3_prior_scale': 9.83790962625793, 'dow_4_prior_scale': 2.6902178091658846, 'dow_5_prior_scale': 2.2228449402677217, 'dow_6_prior_scale': 4.773890069642158}. Best is trial 1 with value: 926.0657337456925.\n"
     ]
    },
    {
     "data": {
      "text/plain": [
       "{'changepoint_prior_scale': 7.0087096751807705,\n",
       " 'seasonality_prior_scale': 4.391911528615275,\n",
       " 'seasonality_mode': 'additive',\n",
       " 'dow_0_prior_scale': 0.7520179943471652,\n",
       " 'dow_1_prior_scale': 0.12731654579269636,\n",
       " 'dow_2_prior_scale': 9.19259439784826,\n",
       " 'dow_3_prior_scale': 8.727295897707606,\n",
       " 'dow_4_prior_scale': 3.567394958523806,\n",
       " 'dow_5_prior_scale': 8.005355119977136,\n",
       " 'dow_6_prior_scale': 0.9115659927110578}"
      ]
     },
     "execution_count": 18,
     "metadata": {},
     "output_type": "execute_result"
    }
   ],
   "source": [
    "def objective(trial):\n",
    "    params = {\n",
    "        \"changepoint_prior_scale\": trial.suggest_float(\n",
    "            \"changepoint_prior_scale\", 0.01, 10\n",
    "        ),\n",
    "        \"seasonality_prior_scale\": trial.suggest_float(\n",
    "            \"seasonality_prior_scale\", 0.01, 10\n",
    "        ),\n",
    "        \"seasonality_mode\": trial.suggest_categorical(\n",
    "            \"seasonality_mode\", [\"additive\", \"multiplicative\"]\n",
    "        ),\n",
    "        \"dow_0_prior_scale\": trial.suggest_float(\"dow_0_prior_scale\", 0.01, 10),\n",
    "        \"dow_1_prior_scale\": trial.suggest_float(\"dow_1_prior_scale\", 0.01, 10),\n",
    "        \"dow_2_prior_scale\": trial.suggest_float(\"dow_2_prior_scale\", 0.01, 10),\n",
    "        \"dow_3_prior_scale\": trial.suggest_float(\"dow_3_prior_scale\", 0.01, 10),\n",
    "        \"dow_4_prior_scale\": trial.suggest_float(\"dow_4_prior_scale\", 0.01, 10),\n",
    "        \"dow_5_prior_scale\": trial.suggest_float(\"dow_5_prior_scale\", 0.01, 10),\n",
    "        \"dow_6_prior_scale\": trial.suggest_float(\"dow_6_prior_scale\", 0.01, 10),\n",
    "    }\n",
    "    display(params)\n",
    "\n",
    "    m = Prophet(\n",
    "        yearly_seasonality=True,\n",
    "        weekly_seasonality=True,\n",
    "        daily_seasonality=False,  # added per dow\n",
    "        # mcmc_samples=300,\n",
    "        # seasonality_mode=\"multiplicative\",  # \"additive\",  # \"multiplicative\",\n",
    "        seasonality_mode=params[\"seasonality_mode\"],\n",
    "        changepoint_prior_scale=params[\"changepoint_prior_scale\"],\n",
    "        seasonality_prior_scale=params[\"seasonality_prior_scale\"],\n",
    "    )\n",
    "\n",
    "    for i in range(7):\n",
    "        dow_prior = params[f\"dow_{i}_prior_scale\"]\n",
    "        m.add_seasonality(\n",
    "            name=f\"daily_dow{i}\",\n",
    "            period=1,\n",
    "            fourier_order=4,\n",
    "            condition_name=f\"dow_{i}\",\n",
    "            prior_scale=dow_prior,\n",
    "        )\n",
    "\n",
    "    m.add_country_holidays(country_name=\"US\")\n",
    "    m.add_regressor(\"max_station_temp\")\n",
    "    m.add_regressor(\"min_station_temp\")\n",
    "    m.add_regressor(\"mean_station_temp\")\n",
    "    m.add_regressor(\"lag_24__min_station_temp\")\n",
    "    m.add_regressor(\"lag_24__max_station_temp\")\n",
    "    m.add_regressor(\"lag_24__mean_station_temp\")\n",
    "\n",
    "    m.fit(train_data)\n",
    "    preds = m.predict(tune_data)\n",
    "    rmse = mse(tune_data[\"y\"], preds[\"yhat\"], squared=False)\n",
    "    return rmse\n",
    "\n",
    "\n",
    "study = optuna.create_study(direction=\"minimize\")\n",
    "study.optimize(objective, n_trials=3)\n",
    "\n",
    "study.best_params\n",
    "joblib.dump(study, \"../models/prophet_study.pkl\")"
   ]
  },
  {
   "cell_type": "code",
   "execution_count": 15,
   "id": "d7130eab-e5cd-4073-bf4c-1c8d70917e61",
   "metadata": {},
   "outputs": [
    {
     "data": {
      "text/plain": [
       "['../models/prophet_study.pkl']"
      ]
     },
     "execution_count": 15,
     "metadata": {},
     "output_type": "execute_result"
    }
   ],
   "source": []
  },
  {
   "cell_type": "code",
   "execution_count": null,
   "id": "8e859332-bbf2-4d83-acab-9f80ad567544",
   "metadata": {},
   "outputs": [],
   "source": []
  }
 ],
 "metadata": {
  "kernelspec": {
   "display_name": "energy_env",
   "language": "python",
   "name": "python3"
  },
  "language_info": {
   "codemirror_mode": {
    "name": "ipython",
    "version": 3
   },
   "file_extension": ".py",
   "mimetype": "text/x-python",
   "name": "python",
   "nbconvert_exporter": "python",
   "pygments_lexer": "ipython3",
   "version": "3.11.0rc1"
  }
 },
 "nbformat": 4,
 "nbformat_minor": 5
}
