{
 "cells": [
  {
   "cell_type": "code",
   "execution_count": 11,
   "id": "f59b68e8-cf8a-4072-8541-621b30160e98",
   "metadata": {},
   "outputs": [
    {
     "name": "stdout",
     "output_type": "stream",
     "text": [
      "The lab_black extension is already loaded. To reload it, use:\n",
      "  %reload_ext lab_black\n",
      "The autoreload extension is already loaded. To reload it, use:\n",
      "  %reload_ext autoreload\n"
     ]
    }
   ],
   "source": [
    "import pandas as pd\n",
    "import numpy as np\n",
    "\n",
    "import matplotlib.pyplot as plt\n",
    "import seaborn as sns\n",
    "\n",
    "# TS\n",
    "from prophet import Prophet\n",
    "\n",
    "# User Imports\n",
    "import sys\n",
    "\n",
    "sys.path.append(\"..\")\n",
    "from src import util\n",
    "\n",
    "# modeling\n",
    "import optuna\n",
    "from sklearn.metrics import mean_squared_error as mse\n",
    "import joblib\n",
    "\n",
    "%load_ext lab_black\n",
    "%load_ext autoreload\n",
    "%autoreload 2\n",
    "\n",
    "plt.rcParams[\"figure.figsize\"] = (14, 7)"
   ]
  },
  {
   "cell_type": "code",
   "execution_count": 2,
   "id": "ffffdd45-8ca4-4c59-9bda-7bc4dbc76584",
   "metadata": {},
   "outputs": [],
   "source": [
    "load = util.read_load(\"../data/load_hist_data.csv\")\n",
    "weather = util.read_weather(\"../data/weather_data.csv\")\n",
    "weather_features = util.featurize_weather(\n",
    "    weather, lags=[24]\n",
    ")  # 24 hours = 1 day lagged weather\n",
    "mod_data = util.create_mod_data(load, weather_features)"
   ]
  },
  {
   "cell_type": "code",
   "execution_count": 3,
   "id": "33dc4a93-bb64-43a6-845d-971f273fb208",
   "metadata": {},
   "outputs": [
    {
     "data": {
      "text/html": [
       "<div>\n",
       "<style scoped>\n",
       "    .dataframe tbody tr th:only-of-type {\n",
       "        vertical-align: middle;\n",
       "    }\n",
       "\n",
       "    .dataframe tbody tr th {\n",
       "        vertical-align: top;\n",
       "    }\n",
       "\n",
       "    .dataframe thead th {\n",
       "        text-align: right;\n",
       "    }\n",
       "</style>\n",
       "<table border=\"1\" class=\"dataframe\">\n",
       "  <thead>\n",
       "    <tr style=\"text-align: right;\">\n",
       "      <th></th>\n",
       "      <th>ds</th>\n",
       "      <th>y</th>\n",
       "      <th>school_break</th>\n",
       "      <th>dow_0</th>\n",
       "      <th>dow_1</th>\n",
       "      <th>dow_2</th>\n",
       "      <th>dow_3</th>\n",
       "      <th>dow_4</th>\n",
       "      <th>dow_5</th>\n",
       "      <th>dow_6</th>\n",
       "      <th>min_station_temp</th>\n",
       "      <th>max_station_temp</th>\n",
       "      <th>mean_station_temp</th>\n",
       "      <th>lag_24__min_station_temp</th>\n",
       "      <th>lag_24__max_station_temp</th>\n",
       "      <th>lag_24__mean_station_temp</th>\n",
       "    </tr>\n",
       "  </thead>\n",
       "  <tbody>\n",
       "    <tr>\n",
       "      <th>26272</th>\n",
       "      <td>2007-12-31 19:00:00</td>\n",
       "      <td>1269</td>\n",
       "      <td>True</td>\n",
       "      <td>True</td>\n",
       "      <td>False</td>\n",
       "      <td>False</td>\n",
       "      <td>False</td>\n",
       "      <td>False</td>\n",
       "      <td>False</td>\n",
       "      <td>False</td>\n",
       "      <td>37.0</td>\n",
       "      <td>50.0</td>\n",
       "      <td>42.678571</td>\n",
       "      <td>45.0</td>\n",
       "      <td>65.0</td>\n",
       "      <td>52.178571</td>\n",
       "    </tr>\n",
       "    <tr>\n",
       "      <th>26273</th>\n",
       "      <td>2007-12-31 20:00:00</td>\n",
       "      <td>1255</td>\n",
       "      <td>True</td>\n",
       "      <td>True</td>\n",
       "      <td>False</td>\n",
       "      <td>False</td>\n",
       "      <td>False</td>\n",
       "      <td>False</td>\n",
       "      <td>False</td>\n",
       "      <td>False</td>\n",
       "      <td>30.0</td>\n",
       "      <td>48.0</td>\n",
       "      <td>41.785714</td>\n",
       "      <td>41.0</td>\n",
       "      <td>63.0</td>\n",
       "      <td>51.964286</td>\n",
       "    </tr>\n",
       "    <tr>\n",
       "      <th>26274</th>\n",
       "      <td>2007-12-31 21:00:00</td>\n",
       "      <td>1237</td>\n",
       "      <td>True</td>\n",
       "      <td>True</td>\n",
       "      <td>False</td>\n",
       "      <td>False</td>\n",
       "      <td>False</td>\n",
       "      <td>False</td>\n",
       "      <td>False</td>\n",
       "      <td>False</td>\n",
       "      <td>34.0</td>\n",
       "      <td>49.0</td>\n",
       "      <td>41.107143</td>\n",
       "      <td>42.0</td>\n",
       "      <td>63.0</td>\n",
       "      <td>52.035714</td>\n",
       "    </tr>\n",
       "    <tr>\n",
       "      <th>26275</th>\n",
       "      <td>2007-12-31 22:00:00</td>\n",
       "      <td>1212</td>\n",
       "      <td>True</td>\n",
       "      <td>True</td>\n",
       "      <td>False</td>\n",
       "      <td>False</td>\n",
       "      <td>False</td>\n",
       "      <td>False</td>\n",
       "      <td>False</td>\n",
       "      <td>False</td>\n",
       "      <td>32.0</td>\n",
       "      <td>49.0</td>\n",
       "      <td>40.571429</td>\n",
       "      <td>39.0</td>\n",
       "      <td>63.0</td>\n",
       "      <td>52.035714</td>\n",
       "    </tr>\n",
       "    <tr>\n",
       "      <th>26276</th>\n",
       "      <td>2007-12-31 23:00:00</td>\n",
       "      <td>1174</td>\n",
       "      <td>True</td>\n",
       "      <td>True</td>\n",
       "      <td>False</td>\n",
       "      <td>False</td>\n",
       "      <td>False</td>\n",
       "      <td>False</td>\n",
       "      <td>False</td>\n",
       "      <td>False</td>\n",
       "      <td>32.0</td>\n",
       "      <td>48.0</td>\n",
       "      <td>40.607143</td>\n",
       "      <td>38.0</td>\n",
       "      <td>63.0</td>\n",
       "      <td>51.535714</td>\n",
       "    </tr>\n",
       "  </tbody>\n",
       "</table>\n",
       "</div>"
      ],
      "text/plain": [
       "                       ds     y  school_break  dow_0  dow_1  dow_2  dow_3  \\\n",
       "26272 2007-12-31 19:00:00  1269          True   True  False  False  False   \n",
       "26273 2007-12-31 20:00:00  1255          True   True  False  False  False   \n",
       "26274 2007-12-31 21:00:00  1237          True   True  False  False  False   \n",
       "26275 2007-12-31 22:00:00  1212          True   True  False  False  False   \n",
       "26276 2007-12-31 23:00:00  1174          True   True  False  False  False   \n",
       "\n",
       "       dow_4  dow_5  dow_6  min_station_temp  max_station_temp  \\\n",
       "26272  False  False  False              37.0              50.0   \n",
       "26273  False  False  False              30.0              48.0   \n",
       "26274  False  False  False              34.0              49.0   \n",
       "26275  False  False  False              32.0              49.0   \n",
       "26276  False  False  False              32.0              48.0   \n",
       "\n",
       "       mean_station_temp  lag_24__min_station_temp  lag_24__max_station_temp  \\\n",
       "26272          42.678571                      45.0                      65.0   \n",
       "26273          41.785714                      41.0                      63.0   \n",
       "26274          41.107143                      42.0                      63.0   \n",
       "26275          40.571429                      39.0                      63.0   \n",
       "26276          40.607143                      38.0                      63.0   \n",
       "\n",
       "       lag_24__mean_station_temp  \n",
       "26272                  52.178571  \n",
       "26273                  51.964286  \n",
       "26274                  52.035714  \n",
       "26275                  52.035714  \n",
       "26276                  51.535714  "
      ]
     },
     "execution_count": 3,
     "metadata": {},
     "output_type": "execute_result"
    }
   ],
   "source": [
    "mod_data.tail()"
   ]
  },
  {
   "cell_type": "code",
   "execution_count": 4,
   "id": "39ae7da3-5e2f-48db-b7ad-0ed4666cb98f",
   "metadata": {},
   "outputs": [],
   "source": [
    "from sktime.forecasting.model_selection import temporal_train_test_split\n",
    "\n",
    "train_data, test_data = temporal_train_test_split(mod_data, test_size=1 / 3)\n",
    "tune_data, test_data = temporal_train_test_split(test_data, test_size=1 / 3)"
   ]
  },
  {
   "cell_type": "code",
   "execution_count": 8,
   "id": "96021bc5-abc2-4ce4-979f-70cb47df372c",
   "metadata": {},
   "outputs": [
    {
     "name": "stderr",
     "output_type": "stream",
     "text": [
      "[I 2023-12-20 11:15:16,127] A new study created in memory with name: no-name-6147ace3-a0c6-4ace-90fa-e142ad004180\n"
     ]
    },
    {
     "data": {
      "text/plain": [
       "{'changepoint_prior_scale': 8.054490381265047,\n",
       " 'seasonality_prior_scale': 8.561082628415585,\n",
       " 'seasonality_mode': 'additive',\n",
       " 'dow_0_prior_scale': 9.610498522521103,\n",
       " 'dow_1_prior_scale': 6.273564818158533,\n",
       " 'dow_2_prior_scale': 1.2421513615385664,\n",
       " 'dow_3_prior_scale': 7.276835170768597,\n",
       " 'dow_4_prior_scale': 7.056032644870886,\n",
       " 'dow_5_prior_scale': 5.326932873410469,\n",
       " 'dow_6_prior_scale': 0.4102098984096688}"
      ]
     },
     "metadata": {},
     "output_type": "display_data"
    },
    {
     "name": "stderr",
     "output_type": "stream",
     "text": [
      "11:15:18 - cmdstanpy - INFO - Chain [1] start processing\n",
      "11:16:25 - cmdstanpy - INFO - Chain [1] done processing\n",
      "[I 2023-12-20 11:16:26,023] Trial 0 finished with value: 1104.4511503136177 and parameters: {'changepoint_prior_scale': 8.054490381265047, 'seasonality_prior_scale': 8.561082628415585, 'seasonality_mode': 'additive', 'dow_0_prior_scale': 9.610498522521103, 'dow_1_prior_scale': 6.273564818158533, 'dow_2_prior_scale': 1.2421513615385664, 'dow_3_prior_scale': 7.276835170768597, 'dow_4_prior_scale': 7.056032644870886, 'dow_5_prior_scale': 5.326932873410469, 'dow_6_prior_scale': 0.4102098984096688}. Best is trial 0 with value: 1104.4511503136177.\n"
     ]
    },
    {
     "data": {
      "text/plain": [
       "{'changepoint_prior_scale': 0.8915501793366585,\n",
       " 'seasonality_prior_scale': 3.1326350459192716,\n",
       " 'seasonality_mode': 'multiplicative',\n",
       " 'dow_0_prior_scale': 1.063526928591769,\n",
       " 'dow_1_prior_scale': 9.037118335838306,\n",
       " 'dow_2_prior_scale': 0.09636312971745115,\n",
       " 'dow_3_prior_scale': 6.667609111443309,\n",
       " 'dow_4_prior_scale': 1.8929555780509728,\n",
       " 'dow_5_prior_scale': 1.0665655452081648,\n",
       " 'dow_6_prior_scale': 3.946968529509098}"
      ]
     },
     "metadata": {},
     "output_type": "display_data"
    },
    {
     "name": "stderr",
     "output_type": "stream",
     "text": [
      "11:16:28 - cmdstanpy - INFO - Chain [1] start processing\n",
      "11:17:28 - cmdstanpy - INFO - Chain [1] done processing\n",
      "[I 2023-12-20 11:17:29,063] Trial 1 finished with value: 2955.1451014011295 and parameters: {'changepoint_prior_scale': 0.8915501793366585, 'seasonality_prior_scale': 3.1326350459192716, 'seasonality_mode': 'multiplicative', 'dow_0_prior_scale': 1.063526928591769, 'dow_1_prior_scale': 9.037118335838306, 'dow_2_prior_scale': 0.09636312971745115, 'dow_3_prior_scale': 6.667609111443309, 'dow_4_prior_scale': 1.8929555780509728, 'dow_5_prior_scale': 1.0665655452081648, 'dow_6_prior_scale': 3.946968529509098}. Best is trial 0 with value: 1104.4511503136177.\n"
     ]
    },
    {
     "data": {
      "text/plain": [
       "{'changepoint_prior_scale': 1.006703961654579,\n",
       " 'seasonality_prior_scale': 7.827310458668701,\n",
       " 'seasonality_mode': 'multiplicative',\n",
       " 'dow_0_prior_scale': 5.081860187964938,\n",
       " 'dow_1_prior_scale': 1.2047136147930617,\n",
       " 'dow_2_prior_scale': 5.807991068099874,\n",
       " 'dow_3_prior_scale': 3.860317673115575,\n",
       " 'dow_4_prior_scale': 4.931903016137631,\n",
       " 'dow_5_prior_scale': 8.976282534214771,\n",
       " 'dow_6_prior_scale': 3.1675613059324847}"
      ]
     },
     "metadata": {},
     "output_type": "display_data"
    },
    {
     "name": "stderr",
     "output_type": "stream",
     "text": [
      "11:17:31 - cmdstanpy - INFO - Chain [1] start processing\n",
      "11:18:39 - cmdstanpy - INFO - Chain [1] done processing\n",
      "[I 2023-12-20 11:18:40,222] Trial 2 finished with value: 2905.3715363859787 and parameters: {'changepoint_prior_scale': 1.006703961654579, 'seasonality_prior_scale': 7.827310458668701, 'seasonality_mode': 'multiplicative', 'dow_0_prior_scale': 5.081860187964938, 'dow_1_prior_scale': 1.2047136147930617, 'dow_2_prior_scale': 5.807991068099874, 'dow_3_prior_scale': 3.860317673115575, 'dow_4_prior_scale': 4.931903016137631, 'dow_5_prior_scale': 8.976282534214771, 'dow_6_prior_scale': 3.1675613059324847}. Best is trial 0 with value: 1104.4511503136177.\n"
     ]
    },
    {
     "data": {
      "text/plain": [
       "{'changepoint_prior_scale': 8.054490381265047,\n",
       " 'seasonality_prior_scale': 8.561082628415585,\n",
       " 'seasonality_mode': 'additive',\n",
       " 'dow_0_prior_scale': 9.610498522521103,\n",
       " 'dow_1_prior_scale': 6.273564818158533,\n",
       " 'dow_2_prior_scale': 1.2421513615385664,\n",
       " 'dow_3_prior_scale': 7.276835170768597,\n",
       " 'dow_4_prior_scale': 7.056032644870886,\n",
       " 'dow_5_prior_scale': 5.326932873410469,\n",
       " 'dow_6_prior_scale': 0.4102098984096688}"
      ]
     },
     "execution_count": 8,
     "metadata": {},
     "output_type": "execute_result"
    }
   ],
   "source": [
    "def objective(trial):\n",
    "    params = {\n",
    "        \"changepoint_prior_scale\": trial.suggest_float(\n",
    "            \"changepoint_prior_scale\", 0.01, 10\n",
    "        ),\n",
    "        \"seasonality_prior_scale\": trial.suggest_float(\n",
    "            \"seasonality_prior_scale\", 0.01, 10\n",
    "        ),\n",
    "        \"seasonality_mode\": trial.suggest_categorical(\n",
    "            \"seasonality_mode\", [\"additive\", \"multiplicative\"]\n",
    "        ),\n",
    "        \"dow_0_prior_scale\": trial.suggest_float(\"dow_0_prior_scale\", 0.01, 10),\n",
    "        \"dow_1_prior_scale\": trial.suggest_float(\"dow_1_prior_scale\", 0.01, 10),\n",
    "        \"dow_2_prior_scale\": trial.suggest_float(\"dow_2_prior_scale\", 0.01, 10),\n",
    "        \"dow_3_prior_scale\": trial.suggest_float(\"dow_3_prior_scale\", 0.01, 10),\n",
    "        \"dow_4_prior_scale\": trial.suggest_float(\"dow_4_prior_scale\", 0.01, 10),\n",
    "        \"dow_5_prior_scale\": trial.suggest_float(\"dow_5_prior_scale\", 0.01, 10),\n",
    "        \"dow_6_prior_scale\": trial.suggest_float(\"dow_6_prior_scale\", 0.01, 10),\n",
    "    }\n",
    "    display(params)\n",
    "\n",
    "    m = Prophet(\n",
    "        yearly_seasonality=True,\n",
    "        weekly_seasonality=True,\n",
    "        daily_seasonality=False,  # added per dow\n",
    "        # mcmc_samples=300,\n",
    "        # seasonality_mode=\"multiplicative\",  # \"additive\",  # \"multiplicative\",\n",
    "        seasonality_mode=params[\"seasonality_mode\"],\n",
    "        changepoint_prior_scale=params[\"changepoint_prior_scale\"],\n",
    "        seasonality_prior_scale=params[\"seasonality_prior_scale\"],\n",
    "    )\n",
    "\n",
    "    for i in range(7):\n",
    "        dow_prior = params[f\"dow_{i}_prior_scale\"]\n",
    "        m.add_seasonality(\n",
    "            name=f\"daily_dow{i}\",\n",
    "            period=1,\n",
    "            fourier_order=4,\n",
    "            condition_name=f\"dow_{i}\",\n",
    "            prior_scale=dow_prior,\n",
    "        )\n",
    "\n",
    "    m.add_country_holidays(country_name=\"US\")\n",
    "    m.add_regressor(\"max_station_temp\")\n",
    "    m.add_regressor(\"min_station_temp\")\n",
    "    m.add_regressor(\"mean_station_temp\")\n",
    "    m.add_regressor(\"lag_24__min_station_temp\")\n",
    "    m.add_regressor(\"lag_24__max_station_temp\")\n",
    "    m.add_regressor(\"lag_24__mean_station_temp\")\n",
    "\n",
    "    m.fit(train_data)\n",
    "    preds = m.predict(tune_data)\n",
    "    rmse = mse(tune_data[\"y\"], preds[\"yhat\"], squared=False)\n",
    "    return rmse\n",
    "\n",
    "\n",
    "study = optuna.create_study(direction=\"minimize\")\n",
    "study.optimize(objective, n_trials=3)\n",
    "\n",
    "study.best_params"
   ]
  },
  {
   "cell_type": "code",
   "execution_count": 15,
   "id": "d7130eab-e5cd-4073-bf4c-1c8d70917e61",
   "metadata": {},
   "outputs": [
    {
     "data": {
      "text/plain": [
       "['../models/prophet_study.pkl']"
      ]
     },
     "execution_count": 15,
     "metadata": {},
     "output_type": "execute_result"
    }
   ],
   "source": [
    "joblib.dump(study, \"../models/prophet_study.pkl\")"
   ]
  },
  {
   "cell_type": "code",
   "execution_count": null,
   "id": "8e859332-bbf2-4d83-acab-9f80ad567544",
   "metadata": {},
   "outputs": [],
   "source": []
  }
 ],
 "metadata": {
  "kernelspec": {
   "display_name": "energy_env",
   "language": "python",
   "name": "energy_env"
  },
  "language_info": {
   "codemirror_mode": {
    "name": "ipython",
    "version": 3
   },
   "file_extension": ".py",
   "mimetype": "text/x-python",
   "name": "python",
   "nbconvert_exporter": "python",
   "pygments_lexer": "ipython3",
   "version": "3.11.0rc1"
  }
 },
 "nbformat": 4,
 "nbformat_minor": 5
}
