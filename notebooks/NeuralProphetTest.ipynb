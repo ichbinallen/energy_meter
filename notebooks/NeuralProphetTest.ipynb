{
 "cells": [
  {
   "cell_type": "code",
   "execution_count": 2,
   "metadata": {},
   "outputs": [
    {
     "name": "stdout",
     "output_type": "stream",
     "text": [
      "The autoreload extension is already loaded. To reload it, use:\n",
      "  %reload_ext autoreload\n"
     ]
    }
   ],
   "source": [
    "import pandas as pd\n",
    "import numpy as np\n",
    "\n",
    "import matplotlib.pyplot as plt\n",
    "import seaborn as sns\n",
    "\n",
    "import warnings\n",
    "warnings.filterwarnings(\"ignore\", message=\"PerformanceWarning\")\n",
    "warnings.filterwarnings(\"ignore\", message=\"UserWarning\")\n",
    "\n",
    "# TS\n",
    "from neuralprophet import NeuralProphet, uncertainty_evaluate\n",
    "from sktime.forecasting.model_selection import temporal_train_test_split\n",
    "\n",
    "# User Imports\n",
    "import sys\n",
    "sys.path.append(\"..\")\n",
    "from src import util\n",
    "\n",
    "%load_ext autoreload\n",
    "%autoreload 2\n",
    "\n",
    "plt.rcParams['figure.figsize'] = (14, 7)"
   ]
  },
  {
   "cell_type": "code",
   "execution_count": 3,
   "metadata": {},
   "outputs": [],
   "source": [
    "# modeling data\n",
    "load = util.read_load(\"../data/load_hist_data.csv\")\n",
    "weather = util.read_weather(\"../data/weather_data.csv\")\n",
    "weather_features = util.featurize_weather(\n",
    "    weather, lags=[24]\n",
    ")  # 24 hours = 1 day lagged weather\n",
    "mod_data = util.create_mod_data(load, weather_features)\n",
    "mod_data.drop(columns=['school_break'], inplace=True)\n",
    "\n",
    "\n",
    "inference_data = mod_data[mod_data.ds >= \"2008-01-01\"]\n",
    "mod_data = mod_data[mod_data.ds < '2008-01-01'] \n",
    "\n",
    "train_data, test_data = temporal_train_test_split(mod_data, test_size=1 / 3)\n",
    "tune_data, test_data = temporal_train_test_split(test_data, test_size=1 / 3)"
   ]
  },
  {
   "cell_type": "code",
   "execution_count": 4,
   "metadata": {},
   "outputs": [
    {
     "name": "stderr",
     "output_type": "stream",
     "text": [
      "WARNING - (NP.forecaster.fit) - When Global modeling with local normalization, metrics are displayed in normalized scale.\n",
      "INFO - (NP.df_utils._infer_frequency) - Major frequency H corresponds to 99.994% of the data.\n",
      "INFO - (NP.df_utils._infer_frequency) - Defined frequency is equal to major frequency - H\n",
      "INFO - (NP.config.init_data_params) - Setting normalization to global as only one dataframe provided for training.\n",
      "INFO - (NP.config.set_auto_batch_epoch) - Auto-set batch_size to 64\n"
     ]
    },
    {
     "data": {
      "application/vnd.jupyter.widget-view+json": {
       "model_id": "427ae944247c4b0696715c4feaafcad4",
       "version_major": 2,
       "version_minor": 0
      },
      "text/plain": [
       "Finding best initial lr:   0%|          | 0/256 [00:00<?, ?it/s]"
      ]
     },
     "metadata": {},
     "output_type": "display_data"
    },
    {
     "data": {
      "application/vnd.jupyter.widget-view+json": {
       "model_id": "3bc26f1e4d9b4685869a96021d6e9ffd",
       "version_major": 2,
       "version_minor": 0
      },
      "text/plain": [
       "Training: 0it [00:00, ?it/s]"
      ]
     },
     "metadata": {},
     "output_type": "display_data"
    },
    {
     "data": {
      "application/vnd.jupyter.widget-view+json": {
       "model_id": "b7fe44fc5fcd497eb6fd55440e591f1f",
       "version_major": 2,
       "version_minor": 0
      },
      "text/plain": [
       "Validation: 0it [00:00, ?it/s]"
      ]
     },
     "metadata": {},
     "output_type": "display_data"
    },
    {
     "data": {
      "application/vnd.jupyter.widget-view+json": {
       "model_id": "83807a832abe42e58e093cb6801cf706",
       "version_major": 2,
       "version_minor": 0
      },
      "text/plain": [
       "Validation: 0it [00:00, ?it/s]"
      ]
     },
     "metadata": {},
     "output_type": "display_data"
    },
    {
     "data": {
      "application/vnd.jupyter.widget-view+json": {
       "model_id": "d1e6c1c5a322411bbc7e55e072707d9d",
       "version_major": 2,
       "version_minor": 0
      },
      "text/plain": [
       "Validation: 0it [00:00, ?it/s]"
      ]
     },
     "metadata": {},
     "output_type": "display_data"
    },
    {
     "data": {
      "application/vnd.jupyter.widget-view+json": {
       "model_id": "4c3c7a61921646039b6c78b6ac88863b",
       "version_major": 2,
       "version_minor": 0
      },
      "text/plain": [
       "Validation: 0it [00:00, ?it/s]"
      ]
     },
     "metadata": {},
     "output_type": "display_data"
    },
    {
     "data": {
      "application/vnd.jupyter.widget-view+json": {
       "model_id": "0942c3c665e943399ffe5fbb74defb65",
       "version_major": 2,
       "version_minor": 0
      },
      "text/plain": [
       "Validation: 0it [00:00, ?it/s]"
      ]
     },
     "metadata": {},
     "output_type": "display_data"
    },
    {
     "data": {
      "application/vnd.jupyter.widget-view+json": {
       "model_id": "d8af1958dd0044879f5c5fe4ad4e4948",
       "version_major": 2,
       "version_minor": 0
      },
      "text/plain": [
       "Validation: 0it [00:00, ?it/s]"
      ]
     },
     "metadata": {},
     "output_type": "display_data"
    },
    {
     "data": {
      "application/vnd.jupyter.widget-view+json": {
       "model_id": "6806d9d456aa4bf1a9f0feb80bfc1794",
       "version_major": 2,
       "version_minor": 0
      },
      "text/plain": [
       "Validation: 0it [00:00, ?it/s]"
      ]
     },
     "metadata": {},
     "output_type": "display_data"
    },
    {
     "data": {
      "application/vnd.jupyter.widget-view+json": {
       "model_id": "4739df4326b54e6f97dd2eda50f16eca",
       "version_major": 2,
       "version_minor": 0
      },
      "text/plain": [
       "Validation: 0it [00:00, ?it/s]"
      ]
     },
     "metadata": {},
     "output_type": "display_data"
    },
    {
     "data": {
      "application/vnd.jupyter.widget-view+json": {
       "model_id": "25afff5f67a64772a55adbff972ff498",
       "version_major": 2,
       "version_minor": 0
      },
      "text/plain": [
       "Validation: 0it [00:00, ?it/s]"
      ]
     },
     "metadata": {},
     "output_type": "display_data"
    },
    {
     "data": {
      "application/vnd.jupyter.widget-view+json": {
       "model_id": "185c0e2a5df94ff687488763929be1c9",
       "version_major": 2,
       "version_minor": 0
      },
      "text/plain": [
       "Validation: 0it [00:00, ?it/s]"
      ]
     },
     "metadata": {},
     "output_type": "display_data"
    },
    {
     "data": {
      "application/vnd.jupyter.widget-view+json": {
       "model_id": "0a53f1dccebc4fcba84aa17df4d23b09",
       "version_major": 2,
       "version_minor": 0
      },
      "text/plain": [
       "Validation: 0it [00:00, ?it/s]"
      ]
     },
     "metadata": {},
     "output_type": "display_data"
    },
    {
     "data": {
      "application/vnd.jupyter.widget-view+json": {
       "model_id": "c0d370b60c274a13a741b1f39122c335",
       "version_major": 2,
       "version_minor": 0
      },
      "text/plain": [
       "Validation: 0it [00:00, ?it/s]"
      ]
     },
     "metadata": {},
     "output_type": "display_data"
    },
    {
     "data": {
      "application/vnd.jupyter.widget-view+json": {
       "model_id": "3535a29306924f26891875a89105f5ec",
       "version_major": 2,
       "version_minor": 0
      },
      "text/plain": [
       "Validation: 0it [00:00, ?it/s]"
      ]
     },
     "metadata": {},
     "output_type": "display_data"
    },
    {
     "data": {
      "application/vnd.jupyter.widget-view+json": {
       "model_id": "05b8a282ba11462196bf4f8d83d993ae",
       "version_major": 2,
       "version_minor": 0
      },
      "text/plain": [
       "Validation: 0it [00:00, ?it/s]"
      ]
     },
     "metadata": {},
     "output_type": "display_data"
    },
    {
     "data": {
      "application/vnd.jupyter.widget-view+json": {
       "model_id": "2c7f3a286fca4eb687dfc867e5e95dff",
       "version_major": 2,
       "version_minor": 0
      },
      "text/plain": [
       "Validation: 0it [00:00, ?it/s]"
      ]
     },
     "metadata": {},
     "output_type": "display_data"
    },
    {
     "data": {
      "application/vnd.jupyter.widget-view+json": {
       "model_id": "bfa604262f5f4a7f9a1aaaed8ffb09d7",
       "version_major": 2,
       "version_minor": 0
      },
      "text/plain": [
       "Validation: 0it [00:00, ?it/s]"
      ]
     },
     "metadata": {},
     "output_type": "display_data"
    },
    {
     "data": {
      "application/vnd.jupyter.widget-view+json": {
       "model_id": "6f5b1ab0fb894f909dc500e673bb614d",
       "version_major": 2,
       "version_minor": 0
      },
      "text/plain": [
       "Validation: 0it [00:00, ?it/s]"
      ]
     },
     "metadata": {},
     "output_type": "display_data"
    },
    {
     "data": {
      "application/vnd.jupyter.widget-view+json": {
       "model_id": "d37b6c55948b4d5b926d9dc6f2c1006d",
       "version_major": 2,
       "version_minor": 0
      },
      "text/plain": [
       "Validation: 0it [00:00, ?it/s]"
      ]
     },
     "metadata": {},
     "output_type": "display_data"
    },
    {
     "data": {
      "application/vnd.jupyter.widget-view+json": {
       "model_id": "bc9accc1c9bb484fa938f7575182cd43",
       "version_major": 2,
       "version_minor": 0
      },
      "text/plain": [
       "Validation: 0it [00:00, ?it/s]"
      ]
     },
     "metadata": {},
     "output_type": "display_data"
    },
    {
     "data": {
      "application/vnd.jupyter.widget-view+json": {
       "model_id": "6a33f4b55a6a40be8b8a3fcde6cef37b",
       "version_major": 2,
       "version_minor": 0
      },
      "text/plain": [
       "Validation: 0it [00:00, ?it/s]"
      ]
     },
     "metadata": {},
     "output_type": "display_data"
    },
    {
     "data": {
      "text/html": [
       "<div>\n",
       "<style scoped>\n",
       "    .dataframe tbody tr th:only-of-type {\n",
       "        vertical-align: middle;\n",
       "    }\n",
       "\n",
       "    .dataframe tbody tr th {\n",
       "        vertical-align: top;\n",
       "    }\n",
       "\n",
       "    .dataframe thead th {\n",
       "        text-align: right;\n",
       "    }\n",
       "</style>\n",
       "<table border=\"1\" class=\"dataframe\">\n",
       "  <thead>\n",
       "    <tr style=\"text-align: right;\">\n",
       "      <th></th>\n",
       "      <th>MAE_val</th>\n",
       "      <th>RMSE_val</th>\n",
       "      <th>Loss_val</th>\n",
       "      <th>RegLoss_val</th>\n",
       "      <th>epoch</th>\n",
       "      <th>MAE</th>\n",
       "      <th>RMSE</th>\n",
       "      <th>Loss</th>\n",
       "      <th>RegLoss</th>\n",
       "    </tr>\n",
       "  </thead>\n",
       "  <tbody>\n",
       "    <tr>\n",
       "      <th>0</th>\n",
       "      <td>2715.265381</td>\n",
       "      <td>3738.573486</td>\n",
       "      <td>1.917470</td>\n",
       "      <td>0.000000</td>\n",
       "      <td>0</td>\n",
       "      <td>3783.059814</td>\n",
       "      <td>4808.628906</td>\n",
       "      <td>2.138438</td>\n",
       "      <td>0.000000</td>\n",
       "    </tr>\n",
       "    <tr>\n",
       "      <th>1</th>\n",
       "      <td>537.813904</td>\n",
       "      <td>688.843567</td>\n",
       "      <td>0.173360</td>\n",
       "      <td>0.000000</td>\n",
       "      <td>1</td>\n",
       "      <td>1114.806763</td>\n",
       "      <td>1503.041992</td>\n",
       "      <td>0.455889</td>\n",
       "      <td>0.000000</td>\n",
       "    </tr>\n",
       "    <tr>\n",
       "      <th>2</th>\n",
       "      <td>277.624115</td>\n",
       "      <td>354.921783</td>\n",
       "      <td>0.050336</td>\n",
       "      <td>0.000000</td>\n",
       "      <td>2</td>\n",
       "      <td>319.475098</td>\n",
       "      <td>417.197479</td>\n",
       "      <td>0.051665</td>\n",
       "      <td>0.000000</td>\n",
       "    </tr>\n",
       "    <tr>\n",
       "      <th>3</th>\n",
       "      <td>228.814438</td>\n",
       "      <td>293.889648</td>\n",
       "      <td>0.033880</td>\n",
       "      <td>0.000000</td>\n",
       "      <td>3</td>\n",
       "      <td>211.491943</td>\n",
       "      <td>277.666046</td>\n",
       "      <td>0.022199</td>\n",
       "      <td>0.000000</td>\n",
       "    </tr>\n",
       "    <tr>\n",
       "      <th>4</th>\n",
       "      <td>195.072922</td>\n",
       "      <td>250.577637</td>\n",
       "      <td>0.024373</td>\n",
       "      <td>0.000000</td>\n",
       "      <td>4</td>\n",
       "      <td>181.375122</td>\n",
       "      <td>237.731735</td>\n",
       "      <td>0.016266</td>\n",
       "      <td>0.000000</td>\n",
       "    </tr>\n",
       "    <tr>\n",
       "      <th>5</th>\n",
       "      <td>170.854721</td>\n",
       "      <td>219.564331</td>\n",
       "      <td>0.018587</td>\n",
       "      <td>0.000000</td>\n",
       "      <td>5</td>\n",
       "      <td>157.817093</td>\n",
       "      <td>207.123932</td>\n",
       "      <td>0.012344</td>\n",
       "      <td>0.000000</td>\n",
       "    </tr>\n",
       "    <tr>\n",
       "      <th>6</th>\n",
       "      <td>157.319412</td>\n",
       "      <td>202.644882</td>\n",
       "      <td>0.015743</td>\n",
       "      <td>0.000000</td>\n",
       "      <td>6</td>\n",
       "      <td>143.032822</td>\n",
       "      <td>188.649261</td>\n",
       "      <td>0.010208</td>\n",
       "      <td>0.000000</td>\n",
       "    </tr>\n",
       "    <tr>\n",
       "      <th>7</th>\n",
       "      <td>149.278458</td>\n",
       "      <td>193.104843</td>\n",
       "      <td>0.014255</td>\n",
       "      <td>0.000000</td>\n",
       "      <td>7</td>\n",
       "      <td>134.930878</td>\n",
       "      <td>178.695114</td>\n",
       "      <td>0.009136</td>\n",
       "      <td>0.000000</td>\n",
       "    </tr>\n",
       "    <tr>\n",
       "      <th>8</th>\n",
       "      <td>144.551147</td>\n",
       "      <td>187.371048</td>\n",
       "      <td>0.013412</td>\n",
       "      <td>0.000000</td>\n",
       "      <td>8</td>\n",
       "      <td>130.482224</td>\n",
       "      <td>173.145660</td>\n",
       "      <td>0.008557</td>\n",
       "      <td>0.000000</td>\n",
       "    </tr>\n",
       "    <tr>\n",
       "      <th>9</th>\n",
       "      <td>141.915512</td>\n",
       "      <td>184.077515</td>\n",
       "      <td>0.012936</td>\n",
       "      <td>0.000000</td>\n",
       "      <td>9</td>\n",
       "      <td>127.535599</td>\n",
       "      <td>169.618805</td>\n",
       "      <td>0.008192</td>\n",
       "      <td>0.000000</td>\n",
       "    </tr>\n",
       "    <tr>\n",
       "      <th>10</th>\n",
       "      <td>139.277954</td>\n",
       "      <td>181.501343</td>\n",
       "      <td>0.012538</td>\n",
       "      <td>0.000000</td>\n",
       "      <td>10</td>\n",
       "      <td>125.398636</td>\n",
       "      <td>167.039642</td>\n",
       "      <td>0.007934</td>\n",
       "      <td>0.000000</td>\n",
       "    </tr>\n",
       "    <tr>\n",
       "      <th>11</th>\n",
       "      <td>137.420456</td>\n",
       "      <td>179.264221</td>\n",
       "      <td>0.012242</td>\n",
       "      <td>0.000000</td>\n",
       "      <td>11</td>\n",
       "      <td>123.493446</td>\n",
       "      <td>164.879440</td>\n",
       "      <td>0.007716</td>\n",
       "      <td>0.000000</td>\n",
       "    </tr>\n",
       "    <tr>\n",
       "      <th>12</th>\n",
       "      <td>136.190018</td>\n",
       "      <td>177.644424</td>\n",
       "      <td>0.011990</td>\n",
       "      <td>0.000000</td>\n",
       "      <td>12</td>\n",
       "      <td>121.816292</td>\n",
       "      <td>162.899078</td>\n",
       "      <td>0.007527</td>\n",
       "      <td>0.000000</td>\n",
       "    </tr>\n",
       "    <tr>\n",
       "      <th>13</th>\n",
       "      <td>134.239639</td>\n",
       "      <td>175.562073</td>\n",
       "      <td>0.011764</td>\n",
       "      <td>0.000035</td>\n",
       "      <td>13</td>\n",
       "      <td>120.647781</td>\n",
       "      <td>161.643402</td>\n",
       "      <td>0.007413</td>\n",
       "      <td>0.000009</td>\n",
       "    </tr>\n",
       "    <tr>\n",
       "      <th>14</th>\n",
       "      <td>133.212631</td>\n",
       "      <td>174.288834</td>\n",
       "      <td>0.011736</td>\n",
       "      <td>0.000169</td>\n",
       "      <td>14</td>\n",
       "      <td>119.568848</td>\n",
       "      <td>160.358490</td>\n",
       "      <td>0.007380</td>\n",
       "      <td>0.000094</td>\n",
       "    </tr>\n",
       "    <tr>\n",
       "      <th>15</th>\n",
       "      <td>132.400864</td>\n",
       "      <td>173.359070</td>\n",
       "      <td>0.011807</td>\n",
       "      <td>0.000376</td>\n",
       "      <td>15</td>\n",
       "      <td>118.620544</td>\n",
       "      <td>159.341751</td>\n",
       "      <td>0.007460</td>\n",
       "      <td>0.000268</td>\n",
       "    </tr>\n",
       "    <tr>\n",
       "      <th>16</th>\n",
       "      <td>133.333694</td>\n",
       "      <td>174.440506</td>\n",
       "      <td>0.012198</td>\n",
       "      <td>0.000611</td>\n",
       "      <td>16</td>\n",
       "      <td>118.006836</td>\n",
       "      <td>158.731598</td>\n",
       "      <td>0.007621</td>\n",
       "      <td>0.000493</td>\n",
       "    </tr>\n",
       "    <tr>\n",
       "      <th>17</th>\n",
       "      <td>131.250748</td>\n",
       "      <td>172.159317</td>\n",
       "      <td>0.012104</td>\n",
       "      <td>0.000826</td>\n",
       "      <td>17</td>\n",
       "      <td>117.577179</td>\n",
       "      <td>158.144257</td>\n",
       "      <td>0.007805</td>\n",
       "      <td>0.000722</td>\n",
       "    </tr>\n",
       "    <tr>\n",
       "      <th>18</th>\n",
       "      <td>131.047714</td>\n",
       "      <td>171.909409</td>\n",
       "      <td>0.012222</td>\n",
       "      <td>0.000976</td>\n",
       "      <td>18</td>\n",
       "      <td>117.213898</td>\n",
       "      <td>157.799286</td>\n",
       "      <td>0.007955</td>\n",
       "      <td>0.000908</td>\n",
       "    </tr>\n",
       "    <tr>\n",
       "      <th>19</th>\n",
       "      <td>131.057281</td>\n",
       "      <td>171.940048</td>\n",
       "      <td>0.012279</td>\n",
       "      <td>0.001030</td>\n",
       "      <td>19</td>\n",
       "      <td>117.054390</td>\n",
       "      <td>157.641052</td>\n",
       "      <td>0.008046</td>\n",
       "      <td>0.001012</td>\n",
       "    </tr>\n",
       "  </tbody>\n",
       "</table>\n",
       "</div>"
      ],
      "text/plain": [
       "        MAE_val     RMSE_val  Loss_val  RegLoss_val  epoch          MAE  \\\n",
       "0   2715.265381  3738.573486  1.917470     0.000000      0  3783.059814   \n",
       "1    537.813904   688.843567  0.173360     0.000000      1  1114.806763   \n",
       "2    277.624115   354.921783  0.050336     0.000000      2   319.475098   \n",
       "3    228.814438   293.889648  0.033880     0.000000      3   211.491943   \n",
       "4    195.072922   250.577637  0.024373     0.000000      4   181.375122   \n",
       "5    170.854721   219.564331  0.018587     0.000000      5   157.817093   \n",
       "6    157.319412   202.644882  0.015743     0.000000      6   143.032822   \n",
       "7    149.278458   193.104843  0.014255     0.000000      7   134.930878   \n",
       "8    144.551147   187.371048  0.013412     0.000000      8   130.482224   \n",
       "9    141.915512   184.077515  0.012936     0.000000      9   127.535599   \n",
       "10   139.277954   181.501343  0.012538     0.000000     10   125.398636   \n",
       "11   137.420456   179.264221  0.012242     0.000000     11   123.493446   \n",
       "12   136.190018   177.644424  0.011990     0.000000     12   121.816292   \n",
       "13   134.239639   175.562073  0.011764     0.000035     13   120.647781   \n",
       "14   133.212631   174.288834  0.011736     0.000169     14   119.568848   \n",
       "15   132.400864   173.359070  0.011807     0.000376     15   118.620544   \n",
       "16   133.333694   174.440506  0.012198     0.000611     16   118.006836   \n",
       "17   131.250748   172.159317  0.012104     0.000826     17   117.577179   \n",
       "18   131.047714   171.909409  0.012222     0.000976     18   117.213898   \n",
       "19   131.057281   171.940048  0.012279     0.001030     19   117.054390   \n",
       "\n",
       "           RMSE      Loss   RegLoss  \n",
       "0   4808.628906  2.138438  0.000000  \n",
       "1   1503.041992  0.455889  0.000000  \n",
       "2    417.197479  0.051665  0.000000  \n",
       "3    277.666046  0.022199  0.000000  \n",
       "4    237.731735  0.016266  0.000000  \n",
       "5    207.123932  0.012344  0.000000  \n",
       "6    188.649261  0.010208  0.000000  \n",
       "7    178.695114  0.009136  0.000000  \n",
       "8    173.145660  0.008557  0.000000  \n",
       "9    169.618805  0.008192  0.000000  \n",
       "10   167.039642  0.007934  0.000000  \n",
       "11   164.879440  0.007716  0.000000  \n",
       "12   162.899078  0.007527  0.000000  \n",
       "13   161.643402  0.007413  0.000009  \n",
       "14   160.358490  0.007380  0.000094  \n",
       "15   159.341751  0.007460  0.000268  \n",
       "16   158.731598  0.007621  0.000493  \n",
       "17   158.144257  0.007805  0.000722  \n",
       "18   157.799286  0.007955  0.000908  \n",
       "19   157.641052  0.008046  0.001012  "
      ]
     },
     "execution_count": 4,
     "metadata": {},
     "output_type": "execute_result"
    }
   ],
   "source": [
    "m = NeuralProphet(\n",
    "    yearly_seasonality=True,\n",
    "    weekly_seasonality=True,\n",
    "    daily_seasonality=False,\n",
    "    n_lags=1*24,\n",
    "    ar_reg=0.5,\n",
    "    epochs=20,\n",
    "    n_forecasts = 2*24, # steps ahead to forecast\n",
    ")\n",
    "for i in range(7):\n",
    "    m.add_seasonality(\n",
    "        name=f\"daily_dow{i}\",\n",
    "        period=1,\n",
    "        fourier_order=4,\n",
    "        condition_name=f\"dow_{i}\",\n",
    "        # prior_scale=dow_prior,\n",
    "    )\n",
    "m.add_country_holidays(country_name=\"US\")\n",
    "m.add_future_regressor(\"max_station_temp\")\n",
    "m.add_future_regressor(\"min_station_temp\")\n",
    "m.add_future_regressor(\"mean_station_temp\")\n",
    "m.add_future_regressor(\"lag_24__min_station_temp\")\n",
    "m.add_future_regressor(\"lag_24__max_station_temp\")\n",
    "m.add_future_regressor(\"lag_24__mean_station_temp\")\n",
    "\n",
    "m.fit(\n",
    "    df = train_data,\n",
    "    freq='H',\n",
    "    validation_df=tune_data\n",
    ")"
   ]
  },
  {
   "cell_type": "markdown",
   "metadata": {},
   "source": [
    "## Conformal Prediction"
   ]
  },
  {
   "cell_type": "code",
   "execution_count": null,
   "metadata": {},
   "outputs": [],
   "source": [
    "confidence_lvl = 0.90\n",
    "quantile_list = [round(((1 - confidence_lvl) / 2), 2), round((confidence_lvl + (1 - confidence_lvl) / 2), 2)]\n",
    "method = 'naive'\n",
    "alpha = 1 - confidence_lvl\n",
    "\n",
    "\n",
    "m_cp = NeuralProphet(\n",
    "    yearly_seasonality=True,\n",
    "    weekly_seasonality=True,\n",
    "    daily_seasonality=False,\n",
    "    n_lags=1*24,\n",
    "    ar_reg=0.5,\n",
    "    epochs=20,\n",
    "    n_forecasts=2*24, # steps ahead to forecast\n",
    "    quantiles=quantile_list\n",
    ")\n",
    "for i in range(7):\n",
    "    m_cp.add_seasonality(\n",
    "        name=f\"daily_dow{i}\",\n",
    "        period=1,\n",
    "        fourier_order=4,\n",
    "        condition_name=f\"dow_{i}\",\n",
    "    )\n",
    "m_cp.add_country_holidays(country_name=\"US\")\n",
    "m_cp.add_future_regressor(\"max_station_temp\")\n",
    "m_cp.add_future_regressor(\"min_station_temp\")\n",
    "m_cp.add_future_regressor(\"mean_station_temp\")\n",
    "m_cp.add_future_regressor(\"lag_24__min_station_temp\")\n",
    "m_cp.add_future_regressor(\"lag_24__max_station_temp\")\n",
    "m_cp.add_future_regressor(\"lag_24__mean_station_temp\")\n",
    "\n",
    "train_metrics = m_cp.fit(\n",
    "    df = train_data,\n",
    "    freq='H',\n",
    ")"
   ]
  },
  {
   "cell_type": "code",
   "execution_count": null,
   "metadata": {},
   "outputs": [],
   "source": [
    "tune_fcst = m_cp.predict(tune_data)"
   ]
  },
  {
   "cell_type": "code",
   "execution_count": null,
   "metadata": {},
   "outputs": [],
   "source": [
    "quantile_fcst = tune_fcst[['ds', 'y'] + [cn for cn in tune_fcst.columns if 'yhat48' in cn]].copy()\n",
    "g=sns.lineplot(data=quantile_fcst, x='ds', y='yhat48', label='forecast')\n",
    "sns.scatterplot(data=quantile_fcst, x='ds', y='y', color='red', label='actual')\n",
    "ax = plt.gca()\n",
    "ax.fill_between(\n",
    "    quantile_fcst.ds,\n",
    "    quantile_fcst['yhat48 5.0%'],\n",
    "    quantile_fcst['yhat48 95.0%'],\n",
    "    alpha=0.5,\n",
    "    color='green',\n",
    "    label=f\"{confidence_lvl:.0%} quantile band\")\n",
    "ax.legend()\n",
    "g.set_title(\"Neural Prophet Forecast with Quantile Intervals\")"
   ]
  },
  {
   "cell_type": "code",
   "execution_count": null,
   "metadata": {},
   "outputs": [],
   "source": [
    "\n",
    "naive_cp_forecast = m_cp.conformal_predict(\n",
    "    pd.concat([train_data, tune_data]),\n",
    "    calibration_df=test_data,\n",
    "    alpha=alpha,\n",
    "    method=method,\n",
    "    plotting_backend=\"plotly-static\",\n",
    "    # show_all_PI=True,\n",
    ")"
   ]
  },
  {
   "cell_type": "code",
   "execution_count": null,
   "metadata": {},
   "outputs": [],
   "source": [
    "\n",
    "interval_fcst = naive_cp_forecast[['ds', 'y'] + [cn for cn in naive_cp_forecast.columns if 'yhat48' in cn]].copy()\n",
    "g=sns.lineplot(data=interval_fcst, x='ds', y='yhat48', label='forecast')\n",
    "sns.scatterplot(data=interval_fcst, x='ds', y='y', color='red', label='actual')\n",
    "ax = plt.gca()\n",
    "ax.fill_between(\n",
    "    interval_fcst.ds,\n",
    "    interval_fcst['yhat48 5.0%'],\n",
    "    interval_fcst['yhat48 95.0%'],\n",
    "    alpha=0.5,\n",
    "    color='purple',\n",
    "    label=f\"{confidence_lvl:.0%} conformal interval\")\n",
    "ax.legend()\n",
    "g.set_title(\"Neural Prophet Forecast with Conformal Prediction Intervals\")"
   ]
  },
  {
   "cell_type": "code",
   "execution_count": null,
   "metadata": {},
   "outputs": [],
   "source": [
    "uncertainty_res = uncertainty_evaluate(naive_cp_forecast)\n",
    "uncertainty_res = uncertainty_res.T.reset_index()\n",
    "uncertainty_res.columns = ['horizon', 'method', 'metric', 'value']\n",
    "uncertainty_res['horizon_num'] = uncertainty_res['horizon'].str.slice(4,).astype(int)\n",
    "sns.relplot(\n",
    "    data=uncertainty_res[~uncertainty_res.metric.str.contains('qhat')],\n",
    "    x=\"horizon_num\", y=\"value\",\n",
    "    hue=\"method\", col=\"metric\",\n",
    "    kind=\"line\", facet_kws=dict(sharex=True, sharey=False),\n",
    ")"
   ]
  },
  {
   "cell_type": "markdown",
   "metadata": {},
   "source": [
    "## Retrain on all Data"
   ]
  },
  {
   "cell_type": "code",
   "execution_count": null,
   "metadata": {},
   "outputs": [],
   "source": [
    "# Retrain with all data - use last 2 months as calibration data\n",
    "\n",
    "deploy_mod = NeuralProphet(\n",
    "    yearly_seasonality=True,\n",
    "    weekly_seasonality=True,\n",
    "    daily_seasonality=False,\n",
    "    n_lags=1*12,\n",
    "    ar_reg=0.5,\n",
    "    epochs=20,\n",
    "    n_forecasts=7*24, # steps ahead to forecast\n",
    "    quantiles=quantile_list\n",
    ")\n",
    "for i in range(7):\n",
    "    deploy_mod.add_seasonality(\n",
    "        name=f\"daily_dow{i}\",\n",
    "        period=1,\n",
    "        fourier_order=4,\n",
    "        condition_name=f\"dow_{i}\",\n",
    "    )\n",
    "deploy_mod.add_country_holidays(country_name=\"US\")\n",
    "deploy_mod.add_future_regressor(\"max_station_temp\")\n",
    "deploy_mod.add_future_regressor(\"min_station_temp\")\n",
    "deploy_mod.add_future_regressor(\"mean_station_temp\")\n",
    "deploy_mod.add_future_regressor(\"lag_24__min_station_temp\")\n",
    "deploy_mod.add_future_regressor(\"lag_24__max_station_temp\")\n",
    "deploy_mod.add_future_regressor(\"lag_24__mean_station_temp\")\n",
    "\n",
    "deploy_metrics = deploy_mod.fit(\n",
    "    df = mod_data,\n",
    "    freq='H',\n",
    ")\n",
    "deploy_metrics"
   ]
  },
  {
   "cell_type": "code",
   "execution_count": null,
   "metadata": {},
   "outputs": [],
   "source": [
    "inference_preds = deploy_mod.conformal_predict(\n",
    "    pd.concat([mod_data, inference_data]),\n",
    "    calibration_df=test_data,\n",
    "    alpha=alpha,\n",
    "    method='naive'\n",
    ")"
   ]
  },
  {
   "cell_type": "code",
   "execution_count": null,
   "metadata": {},
   "outputs": [],
   "source": [
    "for cn in inference_preds.columns:\n",
    "    print(cn)\n",
    "\n",
    "inference_preds[['ds', 'y'] + [f\"qhat{i}\" for i in range(1,49)]]"
   ]
  },
  {
   "cell_type": "code",
   "execution_count": null,
   "metadata": {},
   "outputs": [],
   "source": [
    "deploy_cp_forecast = deploy_mod.conformal_predict(\n",
    "    inference_data.drop(columns='y'),\n",
    "    calibration_df=test_data,\n",
    "    alpha=alpha,\n",
    "    method=method,\n",
    "    plotting_backend=\"plotly-static\",\n",
    "    # show_all_PI=True,\n",
    ")"
   ]
  },
  {
   "cell_type": "code",
   "execution_count": null,
   "metadata": {},
   "outputs": [],
   "source": [
    "deploy_cp_forecast.tail()"
   ]
  },
  {
   "cell_type": "code",
   "execution_count": null,
   "metadata": {},
   "outputs": [],
   "source": []
  },
  {
   "cell_type": "code",
   "execution_count": null,
   "metadata": {},
   "outputs": [],
   "source": []
  },
  {
   "cell_type": "code",
   "execution_count": null,
   "metadata": {},
   "outputs": [],
   "source": []
  },
  {
   "cell_type": "code",
   "execution_count": null,
   "metadata": {},
   "outputs": [],
   "source": [
    "\n",
    "\n",
    "naive_forecast1 = m_cp.conformal_predict(\n",
    "    df=tune_data.drop(columns='school_break'),\n",
    "    calibration_df=test_data.drop(columns='school_break'),\n",
    "    alpha=alpha,\n",
    "    method=method,\n",
    "    plotting_backend='plotly_static'\n",
    ")"
   ]
  },
  {
   "cell_type": "code",
   "execution_count": null,
   "metadata": {},
   "outputs": [],
   "source": [
    "naive_forecast1.columns\n",
    "naive_forecast1[['ds', 'y', 'yhat48', 'yhat48 - qhat48', 'yhat48 + qhat48']]"
   ]
  },
  {
   "cell_type": "code",
   "execution_count": null,
   "metadata": {},
   "outputs": [],
   "source": [
    "forecast1 = m.predict(test_data.drop(columns='school_break'))[24:]"
   ]
  },
  {
   "cell_type": "code",
   "execution_count": null,
   "metadata": {},
   "outputs": [],
   "source": [
    "foo = forecast1[forecast1.yhat24.notna()][['ds', 'y', 'yhat24']].copy()\n",
    "foo['resid'] = foo['y'] - foo['yhat24']\n",
    "\n",
    "sns.lineplot(data=foo, x='ds', y='resid')"
   ]
  },
  {
   "cell_type": "code",
   "execution_count": null,
   "metadata": {},
   "outputs": [],
   "source": [
    "?NeuralProphet"
   ]
  },
  {
   "cell_type": "code",
   "execution_count": null,
   "metadata": {},
   "outputs": [],
   "source": [
    "?m.plot_components"
   ]
  },
  {
   "cell_type": "code",
   "execution_count": null,
   "metadata": {},
   "outputs": [],
   "source": [
    "?m.get_latest_forecast"
   ]
  },
  {
   "cell_type": "code",
   "execution_count": null,
   "metadata": {},
   "outputs": [],
   "source": [
    "tune_fcst[['ds', 'y'] + [cn for cn in tune_fcst.columns if \"yhat\" in cn]]"
   ]
  },
  {
   "cell_type": "code",
   "execution_count": null,
   "metadata": {},
   "outputs": [],
   "source": [
    "fcst = m.predict(\n",
    "    mod_data[[\n",
    "        'ds', 'y',\n",
    "        'dow_0', 'dow_1', 'dow_2', 'dow_3', 'dow_4', 'dow_5', 'dow_6',\n",
    "        'max_station_temp', 'min_station_temp', 'mean_station_temp',\n",
    "        'lag_24__min_station_temp', 'lag_24__max_station_temp', 'lag_24__mean_station_temp',\n",
    "    ]]\n",
    ")\n",
    "fcst\n",
    "\n",
    "# m.plot(fcst)"
   ]
  },
  {
   "cell_type": "code",
   "execution_count": null,
   "metadata": {},
   "outputs": [],
   "source": [
    "fcst['resid24'] = fcst['y'] - fcst['yhat24']\n"
   ]
  },
  {
   "cell_type": "code",
   "execution_count": null,
   "metadata": {},
   "outputs": [],
   "source": [
    "sns.lineplot(data=fcst, x='ds', y='resid24')"
   ]
  },
  {
   "cell_type": "code",
   "execution_count": null,
   "metadata": {},
   "outputs": [],
   "source": [
    "m.get_latest_forecast(fcst)"
   ]
  },
  {
   "cell_type": "code",
   "execution_count": null,
   "metadata": {},
   "outputs": [],
   "source": [
    "m.plot_components(fcst)"
   ]
  },
  {
   "cell_type": "code",
   "execution_count": null,
   "metadata": {},
   "outputs": [],
   "source": [
    "fcst['residual'] = fcst['y'] - fcst['yhat1']"
   ]
  },
  {
   "cell_type": "code",
   "execution_count": null,
   "metadata": {},
   "outputs": [],
   "source": [
    "util.slider_plot(data=fcst, x='ds', y='residual')"
   ]
  },
  {
   "cell_type": "code",
   "execution_count": null,
   "metadata": {},
   "outputs": [],
   "source": [
    "!pip3 install statsmodels"
   ]
  },
  {
   "cell_type": "code",
   "execution_count": null,
   "metadata": {},
   "outputs": [],
   "source": [
    "from statsmodels.graphics.tsaplots import plot_acf\n",
    "from statsmodels.tsa.stattools import acf\n",
    "plot_data = fcst[fcst.residual.notna()]\n",
    "acf(plot_data['residual'])\n",
    "plot_acf(plot_data['residual'])"
   ]
  },
  {
   "cell_type": "code",
   "execution_count": null,
   "metadata": {},
   "outputs": [],
   "source": [
    "mod_data[:-3].apply(lambda x: x.isna().sum())"
   ]
  },
  {
   "cell_type": "code",
   "execution_count": null,
   "metadata": {},
   "outputs": [],
   "source": [
    "forecast.head()"
   ]
  },
  {
   "cell_type": "code",
   "execution_count": null,
   "metadata": {},
   "outputs": [],
   "source": [
    "m.plot(forecast)"
   ]
  },
  {
   "cell_type": "code",
   "execution_count": null,
   "metadata": {},
   "outputs": [],
   "source": []
  },
  {
   "cell_type": "code",
   "execution_count": null,
   "metadata": {},
   "outputs": [],
   "source": []
  },
  {
   "cell_type": "code",
   "execution_count": null,
   "metadata": {},
   "outputs": [],
   "source": []
  },
  {
   "cell_type": "code",
   "execution_count": null,
   "metadata": {},
   "outputs": [],
   "source": [
    "confidence_lvl = 0.90\n",
    "quantile_list = [round(((1 - confidence_lvl) / 2), 2), round((confidence_lvl + (1 - confidence_lvl) / 2), 2)]\n",
    "method = 'naive'\n",
    "alpha = 1 - confidence_lvl"
   ]
  },
  {
   "cell_type": "code",
   "execution_count": null,
   "metadata": {},
   "outputs": [],
   "source": [
    "inference_preds = pd.read_csv(\"../data/inference_preds_nforecasts336.csv\")\n",
    "# inference_preds.ds = pd.to_datetime(inference_preds)"
   ]
  },
  {
   "cell_type": "code",
   "execution_count": null,
   "metadata": {},
   "outputs": [],
   "source": [
    "conformal_std = inference_preds[[cn for cn in inference_preds.columns if 'qhat' in cn and 'yhat' not in cn]].apply(max).reset_index()\n",
    "conformal_std.columns = ['horizon', 'qhat']\n",
    "conformal_std['horizon'] = conformal_std.horizon.str[4:].astype(np.float64) / 24\n",
    "sns.lineplot(data=conformal_std, x='horizon', y='qhat')"
   ]
  },
  {
   "cell_type": "code",
   "execution_count": null,
   "metadata": {},
   "outputs": [],
   "source": [
    "conformal_std"
   ]
  },
  {
   "cell_type": "code",
   "execution_count": null,
   "metadata": {},
   "outputs": [],
   "source": [
    "inference_preds[inference_preds.ds >= '2008-01-01']"
   ]
  },
  {
   "cell_type": "code",
   "execution_count": null,
   "metadata": {},
   "outputs": [],
   "source": []
  }
 ],
 "metadata": {
  "kernelspec": {
   "display_name": "np_env",
   "language": "python",
   "name": "python3"
  },
  "language_info": {
   "codemirror_mode": {
    "name": "ipython",
    "version": 3
   },
   "file_extension": ".py",
   "mimetype": "text/x-python",
   "name": "python",
   "nbconvert_exporter": "python",
   "pygments_lexer": "ipython3",
   "version": "3.9.18"
  }
 },
 "nbformat": 4,
 "nbformat_minor": 2
}
